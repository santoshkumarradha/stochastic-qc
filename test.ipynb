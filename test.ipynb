{
 "metadata": {
  "language_info": {
   "codemirror_mode": {
    "name": "ipython",
    "version": 3
   },
   "file_extension": ".py",
   "mimetype": "text/x-python",
   "name": "python",
   "nbconvert_exporter": "python",
   "pygments_lexer": "ipython3",
   "version": "3.8.5-final"
  },
  "orig_nbformat": 2,
  "kernelspec": {
   "name": "Python 3.8.5 64-bit ('base': conda)",
   "display_name": "Python 3.8.5 64-bit ('base': conda)",
   "metadata": {
    "interpreter": {
     "hash": "1e4450fa8a210f7cf26deb6fc5a47ed21765893ebc0477d5354be5be0cb173c8"
    }
   }
  }
 },
 "nbformat": 4,
 "nbformat_minor": 2,
 "cells": [
  {
   "cell_type": "code",
   "execution_count": 96,
   "metadata": {},
   "outputs": [
    {
     "output_type": "stream",
     "name": "stdout",
     "text": [
      "The autoreload extension is already loaded. To reload it, use:\n  %reload_ext autoreload\n"
     ]
    }
   ],
   "source": [
    "import matplotlib.pyplot as plt\n",
    "import numpy as np\n",
    "from qiskit.visualization import plot_histogram\n",
    "from ham import *\n",
    "from tqdm import tqdm_notebook as tqdm\n",
    "from celluloid import Camera\n",
    "%load_ext autoreload\n",
    "%autoreload 2"
   ]
  },
  {
   "cell_type": "code",
   "execution_count": 105,
   "metadata": {},
   "outputs": [
    {
     "output_type": "display_data",
     "data": {
      "text/plain": "HBox(children=(HTML(value=''), FloatProgress(value=0.0, max=13.0), HTML(value='')))",
      "application/vnd.jupyter.widget-view+json": {
       "version_major": 2,
       "version_minor": 0,
       "model_id": "d4a070f219564c57912dab72d72cccc3"
      }
     },
     "metadata": {}
    },
    {
     "output_type": "stream",
     "name": "stdout",
     "text": [
      "\n",
      "done 0.1\n"
     ]
    },
    {
     "output_type": "display_data",
     "data": {
      "text/plain": "HBox(children=(HTML(value=''), FloatProgress(value=0.0, max=13.0), HTML(value='')))",
      "application/vnd.jupyter.widget-view+json": {
       "version_major": 2,
       "version_minor": 0,
       "model_id": "047c9432ea16443ebfe0a7b42dafc09b"
      }
     },
     "metadata": {}
    },
    {
     "output_type": "stream",
     "name": "stdout",
     "text": [
      "\n",
      "done 1\n"
     ]
    },
    {
     "output_type": "display_data",
     "data": {
      "text/plain": "HBox(children=(HTML(value=''), FloatProgress(value=0.0, max=13.0), HTML(value='')))",
      "application/vnd.jupyter.widget-view+json": {
       "version_major": 2,
       "version_minor": 0,
       "model_id": "89042d5a7a7841edbb1eeac264bad857"
      }
     },
     "metadata": {}
    },
    {
     "output_type": "stream",
     "name": "stdout",
     "text": [
      "\n",
      "done 10\n"
     ]
    },
    {
     "output_type": "display_data",
     "data": {
      "text/plain": "HBox(children=(HTML(value=''), FloatProgress(value=0.0, max=13.0), HTML(value='')))",
      "application/vnd.jupyter.widget-view+json": {
       "version_major": 2,
       "version_minor": 0,
       "model_id": "e3328e4f6abb47a587f4c19297d33c13"
      }
     },
     "metadata": {}
    },
    {
     "output_type": "stream",
     "name": "stdout",
     "text": [
      "\n",
      "done 100\n"
     ]
    },
    {
     "output_type": "display_data",
     "data": {
      "text/plain": "HBox(children=(HTML(value=''), FloatProgress(value=0.0, max=13.0), HTML(value='')))",
      "application/vnd.jupyter.widget-view+json": {
       "version_major": 2,
       "version_minor": 0,
       "model_id": "13c9b7c0e5d145bfacd807d9958762b6"
      }
     },
     "metadata": {}
    },
    {
     "output_type": "stream",
     "name": "stdout",
     "text": [
      "\n",
      "done 1000\n"
     ]
    }
   ],
   "source": [
    "\n",
    "\n",
    "a=1;n=4\n",
    "for a in [0.1,1,10,100,1000]:\n",
    "    fig,ax=plt.subplots(facecolor=\"w\")\n",
    "    camera = Camera(fig)\n",
    "    for ntimes in tqdm(range(1,40,3)):\n",
    "        h=ham(5,start_sigma=.5,start_mu=0,ntimes=ntimes)\n",
    "        h.set_V(a*(h.x+0)**n)\n",
    "        h.make_ham()\n",
    "        h.simulate()\n",
    "\n",
    "        h.plot_potential(ax=ax)\n",
    "        plot_histogram([h.result,h.initial],bar_labels=False,ax=ax)\n",
    "        ax.text(0.2, 0.7, f'Time step = {ntimes}', transform=ax.transAxes)\n",
    "        ax.set_title(f\"V(x)=${a}x^{n}$ potential\")\n",
    "        ax.set_xticklabels(h.x, fontsize=10)\n",
    "        plt.legend()\n",
    "        ax.grid(False)\n",
    "        camera.snap()\n",
    "    from IPython.display import HTML\n",
    "    animation = camera.animate()\n",
    "    fname=f\"{a}*x^{n}.gif\"\n",
    "    animation.save(f'figs/{fname}')\n",
    "    plt.close()\n",
    "\n",
    "    print(f\"done {a}\")"
   ]
  },
  {
   "cell_type": "code",
   "execution_count": 106,
   "metadata": {},
   "outputs": [],
   "source": [
    "from IPython.display import HTML\n",
    "# HTML(f'<img src=\"figs/{fname}\">')"
   ]
  },
  {
   "cell_type": "code",
   "execution_count": null,
   "metadata": {},
   "outputs": [],
   "source": [
    "h.circ.size()"
   ]
  }
 ]
}